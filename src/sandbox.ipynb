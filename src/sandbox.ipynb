{
 "cells": [
  {
   "cell_type": "code",
   "execution_count": 1,
   "metadata": {},
   "outputs": [],
   "source": [
    "import cv2\n",
    "import numpy as np\n",
    "import matplotlib.pyplot as plt\n",
    "import os\n",
    "from PIL import Image\n",
    "import pillow_heif\n",
    "from PIL.ExifTags import TAGS\n",
    "import piexif\n",
    "from pillow_heif import register_heif_opener\n",
    "\n",
    "os.chdir(\"/home/michael/AmbientLight/\")\n",
    "\n",
    "from src.utils import extract_specific_metadata, create_hdr_from_images, estimate_overall_lux\n",
    "\n",
    "# create_hdr_from_images(image_paths)\n",
    "\n"
   ]
  },
  {
   "cell_type": "code",
   "execution_count": 2,
   "metadata": {},
   "outputs": [],
   "source": [
    "\n",
    "image_paths = [\n",
    "    \"test_photos_heic/face-2.HEIC\",\n",
    "    \"test_photos_heic/face0.HEIC\",\n",
    "    \"test_photos_heic/face+2.HEIC\"\n",
    "]\n",
    "\n",
    "image_paths = [\n",
    "    \"test_photos_heic/table-2.HEIC\",\n",
    "    \"test_photos_heic/table0.HEIC\",\n",
    "    \"test_photos_heic/table+2.HEIC\"\n",
    "]\n",
    "\n",
    "image_paths = [\n",
    "    \"disbursed_heic/IMG_3786.HEIC\",\n",
    "    \"disbursed_heic/IMG_3787.HEIC\",\n",
    "    \"disbursed_heic/IMG_3788.HEIC\",\n",
    "    \"disbursed_heic/IMG_3789.HEIC\",\n",
    "    \"disbursed_heic/IMG_3790.HEIC\",\n",
    "    \"disbursed_heic/IMG_3791.HEIC\",\n",
    "    \"disbursed_heic/IMG_3792.HEIC\",\n",
    "    \n",
    "]\n",
    "\n",
    "metadata_list = extract_specific_metadata(image_paths)\n",
    "overall_lux_estimates = estimate_overall_lux(metadata_list)\n"
   ]
  },
  {
   "cell_type": "code",
   "execution_count": 3,
   "metadata": {},
   "outputs": [
    {
     "data": {
      "text/plain": [
       "[{'filename': 'disbursed_heic/IMG_3786.HEIC',\n",
       "  'ExposureTime': 0.016666666666666666,\n",
       "  'FNumber': 2.2,\n",
       "  'ISOSpeedRatings': 400,\n",
       "  'BrightnessValue': 1.7691698038438677,\n",
       "  'ExposureBiasValue': 0.0,\n",
       "  'calculatedExposure': 1.3774104683195592,\n",
       "  'lux_unadjusted': 181.50000000000003,\n",
       "  'lux_adjusted': 134.8675464088753,\n",
       "  'mean_pixel_value': 111.8375432756212},\n",
       " {'filename': 'disbursed_heic/IMG_3787.HEIC',\n",
       "  'ExposureTime': 0.016666666666666666,\n",
       "  'FNumber': 1.7799999713880652,\n",
       "  'ISOSpeedRatings': 320,\n",
       "  'BrightnessValue': 1.2530090165653176,\n",
       "  'ExposureBiasValue': 0.0,\n",
       "  'calculatedExposure': 1.6832892011080116,\n",
       "  'lux_unadjusted': 148.51874522538344,\n",
       "  'lux_adjusted': 109.9585384317252,\n",
       "  'mean_pixel_value': 111.65238624148898},\n",
       " {'filename': 'disbursed_heic/IMG_3788.HEIC',\n",
       "  'ExposureTime': 0.016666666666666666,\n",
       "  'FNumber': 1.7799999713880652,\n",
       "  'ISOSpeedRatings': 800,\n",
       "  'BrightnessValue': 0.3303541404881157,\n",
       "  'ExposureBiasValue': 0.0,\n",
       "  'calculatedExposure': 4.20822300277003,\n",
       "  'lux_unadjusted': 59.40749809015337,\n",
       "  'lux_adjusted': 44.1226479096821,\n",
       "  'mean_pixel_value': 111.8129038280911},\n",
       " {'filename': 'disbursed_heic/IMG_3789.HEIC',\n",
       "  'ExposureTime': 0.025,\n",
       "  'FNumber': 1.7799999713880652,\n",
       "  'ISOSpeedRatings': 640,\n",
       "  'BrightnessValue': -0.3004199456540918,\n",
       "  'ExposureBiasValue': 0.0,\n",
       "  'calculatedExposure': 5.049867603324035,\n",
       "  'lux_unadjusted': 49.50624840846114,\n",
       "  'lux_adjusted': 39.879737578313,\n",
       "  'mean_pixel_value': 116.01780382792155},\n",
       " {'filename': 'disbursed_heic/IMG_3790.HEIC',\n",
       "  'ExposureTime': 0.025,\n",
       "  'FNumber': 1.7799999713880652,\n",
       "  'ISOSpeedRatings': 800,\n",
       "  'BrightnessValue': -0.9829032631335339,\n",
       "  'ExposureBiasValue': 0.0,\n",
       "  'calculatedExposure': 6.312334504155044,\n",
       "  'lux_unadjusted': 39.60499872676891,\n",
       "  'lux_adjusted': 25.048461180855682,\n",
       "  'mean_pixel_value': 103.93684662712946},\n",
       " {'filename': 'disbursed_heic/IMG_3791.HEIC',\n",
       "  'ExposureTime': 0.016666666666666666,\n",
       "  'FNumber': 1.7799999713880652,\n",
       "  'ISOSpeedRatings': 500,\n",
       "  'BrightnessValue': 0.8860337775432116,\n",
       "  'ExposureBiasValue': 0.0,\n",
       "  'calculatedExposure': 2.6301393767312686,\n",
       "  'lux_unadjusted': 95.05199694424539,\n",
       "  'lux_adjusted': 48.00922009066983,\n",
       "  'mean_pixel_value': 93.8372245364719},\n",
       " {'filename': 'disbursed_heic/IMG_3792.HEIC',\n",
       "  'ExposureTime': 0.016666666666666666,\n",
       "  'FNumber': 1.7799999713880652,\n",
       "  'ISOSpeedRatings': 320,\n",
       "  'BrightnessValue': 1.234895343658766,\n",
       "  'ExposureBiasValue': 0.0,\n",
       "  'calculatedExposure': 1.6832892011080116,\n",
       "  'lux_unadjusted': 148.51874522538344,\n",
       "  'lux_adjusted': 86.79919159493426,\n",
       "  'mean_pixel_value': 100.27211040920682}]"
      ]
     },
     "execution_count": 3,
     "metadata": {},
     "output_type": "execute_result"
    }
   ],
   "source": [
    "metadata_list"
   ]
  },
  {
   "cell_type": "code",
   "execution_count": 4,
   "metadata": {},
   "outputs": [
    {
     "data": {
      "text/plain": [
       "{'median_adjusted': 48.009220123291016,\n",
       " 'mean_adjusted': 69.81218719482422,\n",
       " 'weighted_median_adjusted': 48.00922009066983,\n",
       " 'weighted_mean_adjusted': 71.0287857055664,\n",
       " 'median_unadjusted': 95.05199432373047,\n",
       " 'mean_unadjusted': 103.15831756591797,\n",
       " 'weighted_median_unadjusted': 95.05199694424539,\n",
       " 'weighted_mean_unadjusted': 102.8966064453125}"
      ]
     },
     "execution_count": 4,
     "metadata": {},
     "output_type": "execute_result"
    }
   ],
   "source": [
    "overall_lux_estimates\n",
    "overall_lux_estimates['weighted_mean_adjusted']\n",
    "\n",
    "#use adjusted\n",
    "# median is stupid\n",
    "# adjusted mean\n",
    "# use weighting\n",
    "\n",
    "# weighted_mean_adjusted \n"
   ]
  },
  {
   "cell_type": "code",
   "execution_count": null,
   "metadata": {},
   "outputs": [],
   "source": []
  }
 ],
 "metadata": {
  "kernelspec": {
   "display_name": ".venv",
   "language": "python",
   "name": "python3"
  },
  "language_info": {
   "codemirror_mode": {
    "name": "ipython",
    "version": 3
   },
   "file_extension": ".py",
   "mimetype": "text/x-python",
   "name": "python",
   "nbconvert_exporter": "python",
   "pygments_lexer": "ipython3",
   "version": "3.10.12"
  }
 },
 "nbformat": 4,
 "nbformat_minor": 2
}
