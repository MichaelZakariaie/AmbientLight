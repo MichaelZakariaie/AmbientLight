{
 "cells": [
  {
   "cell_type": "code",
   "execution_count": 1,
   "metadata": {},
   "outputs": [],
   "source": [
    "import cv2\n",
    "import numpy as np\n",
    "import matplotlib.pyplot as plt\n",
    "import os\n",
    "from PIL import Image\n",
    "import pillow_heif\n",
    "from PIL.ExifTags import TAGS\n",
    "import piexif\n",
    "from pillow_heif import register_heif_opener\n",
    "\n",
    "os.chdir(\"/home/michael/AmbientLight/\")\n",
    "\n",
    "from src.utils import extract_specific_metadata, create_hdr_from_images\n",
    "\n",
    "\n",
    "\n"
   ]
  },
  {
   "cell_type": "code",
   "execution_count": 2,
   "metadata": {},
   "outputs": [
    {
     "data": {
      "text/plain": [
       "[1, 2]"
      ]
     },
     "execution_count": 2,
     "metadata": {},
     "output_type": "execute_result"
    }
   ],
   "source": [
    "[1, 2]"
   ]
  },
  {
   "cell_type": "markdown",
   "metadata": {},
   "source": [
    "Final thing: Ambient Light hitting sclera and entire image\n",
    "\n",
    "1. Run debevik and malik on diff exposure images --> get HDR image (floats of 10^-5 to 10^4 ish) / relative radiance\n",
    "\n",
    "\n",
    "1. Function to calculate ambient light from a given image: (mean pixel value/calculatedExposure)\n",
    "\n",
    "it estaimtes camera response function too?\n",
    "\n",
    "add alignment algorithm\n",
    "\n",
    "!@! radiance of pupil/sclera is proportional to irradiance given that reflectance is ~constant\n",
    "-----\n",
    "\n",
    "get camera response function\n",
    "\n",
    "does debevik and malik help at all? maybe only if you have the reference...\n",
    "\n",
    "\n",
    "\n",
    "metrics... \n",
    "- calculated exposure with ev = 0\n",
    "-  currentBrightness = UIScreen.main.brightness\n",
    "\n",
    "\n",
    "take picture with widest angle?\n",
    "front and back\n",
    "use raws?\n",
    "average over time (median of pictures)\n",
    "make the person move around?\n",
    "\n",
    "clip highlights above a threshold? ... 5-95 or something of pixels only\n",
    "\n",
    "RAW or “manual” mode with zero “smart HDR,” minimal or no local tone mapping, and locked white balance if possible.\n",
    "\n",
    "do log average instead of average\n",
    "\n",
    "\n",
    "!@! - have them do a long exposure shot while sweeping like a panorama?\n",
    "- can also just do multiple shots and average tho...\n",
    "\n",
    "gaussian blur images to simulate diffusion? a median blur?\n",
    "\n",
    "darkest 20-30% of pixels of pupil?\n",
    "\n",
    "--------------------------\n",
    "Potential Algorithm:\n",
    "\n",
    "Person spins 360˚, ~10 photos are taken\n",
    "\n",
    "\n",
    "Could do an algorithm as simple as taking many shots on widest camera or whatever with auto exposure on... just look at calculated_exposure\n",
    "\n",
    "Lux≈2.5×2 \n",
    "EV \n",
    "100\n",
    "​\n",
    "\n",
    "Lux ~= 2.5 * 10^EV100\n",
    "\n",
    "EV100 = log2(Aperture^2/shutter speed)\n",
    "\n",
    "EV100 = exposure value at 100 iso\n",
    "\n",
    "\n",
    "\n",
    "Lux ~= 2.5 * aperture^2 * 100 / shutter speed / iso || assuming mean expsoure\n",
    "\n",
    "adjusted: \n",
    "Lux ~= 2.5 * aperture^2 * 100 / shutter speed / iso * (mean pixel value/128)\n",
    "\n",
    "RAW = 12-14 bits of dynamic range\n",
    "\n",
    "\n",
    "my thing before: exposure_time * iso / (f_number**2)\n",
    "\n",
    "\n",
    "skip HDR thing... just do mutliple pictures while moving around and do lux estimation thing\n",
    "do wide angle \n",
    "allow autofocus"
   ]
  },
  {
   "cell_type": "markdown",
   "metadata": {},
   "source": [
    "E = Lgray / calculatedExposure / R\n",
    "\n",
    "Lgray = radiance value of gray thing from HDR map\n",
    "R = reflectance\n"
   ]
  },
  {
   "cell_type": "code",
   "execution_count": 5,
   "metadata": {},
   "outputs": [
    {
     "name": "stdout",
     "output_type": "stream",
     "text": [
      "Metadata for test_photos_heic/table-2.HEIC:\n",
      "  ExposureTime: 0.008333333333333333\n",
      "  FNumber: 2.2\n",
      "  ISOSpeedRatings: 125\n",
      "  BrightnessValue: 2.348783647617677\n",
      "  ExposureBiasValue: -2.0\n",
      "  calculatedExposure: 0.21522038567493113\n",
      "\n",
      "\n",
      "Metadata for test_photos_heic/table0.HEIC:\n",
      "  ExposureTime: 0.016666666666666666\n",
      "  FNumber: 1.7799999713880652\n",
      "  ISOSpeedRatings: 250\n",
      "  BrightnessValue: 1.9762883948078653\n",
      "  ExposureBiasValue: 0.0\n",
      "  calculatedExposure: 1.3150696883656343\n",
      "\n",
      "\n",
      "Metadata for test_photos_heic/table+2.HEIC:\n",
      "  ExposureTime: 0.016666666666666666\n",
      "  FNumber: 1.7799999713880652\n",
      "  ISOSpeedRatings: 800\n",
      "  BrightnessValue: 1.9325907590759075\n",
      "  ExposureBiasValue: 2.0\n",
      "  calculatedExposure: 4.20822300277003\n",
      "\n",
      "\n"
     ]
    }
   ],
   "source": [
    "\n",
    "image_paths = [\n",
    "    \"test_photos_heic/face-2.HEIC\",\n",
    "    \"test_photos_heic/face0.HEIC\",\n",
    "    \"test_photos_heic/face+2.HEIC\"\n",
    "]\n",
    "\n",
    "image_paths = [\n",
    "    \"test_photos_heic/table-2.HEIC\",\n",
    "    \"test_photos_heic/table0.HEIC\",\n",
    "    \"test_photos_heic/table+2.HEIC\"\n",
    "]\n",
    "\n",
    "metadata_list = extract_specific_metadata(image_paths)\n",
    "\n",
    "for metadata in metadata_list:\n",
    "    print(f\"Metadata for {metadata['filename']}:\")\n",
    "    for key in [\"ExposureTime\", \"FNumber\", \"ISOSpeedRatings\", \"BrightnessValue\", \"ExposureBiasValue\", \"calculatedExposure\"]:\n",
    "        value = metadata.get(key)\n",
    "        if value is not None:\n",
    "            print(f\"  {key}: {value}\")\n",
    "        else:\n",
    "            print(f\"  {key}: None\")\n",
    "    print(\"\\n\")\n"
   ]
  },
  {
   "cell_type": "code",
   "execution_count": 6,
   "metadata": {},
   "outputs": [
    {
     "data": {
      "text/plain": [
       "[{'filename': 'test_photos_heic/table-2.HEIC',\n",
       "  'ExposureTime': 0.008333333333333333,\n",
       "  'FNumber': 2.2,\n",
       "  'ISOSpeedRatings': 125,\n",
       "  'BrightnessValue': 2.348783647617677,\n",
       "  'ExposureBiasValue': -2.0,\n",
       "  'calculatedExposure': 0.21522038567493113,\n",
       "  'lux_unadjusted': 1161.6000000000001,\n",
       "  'lux_adjusted': 78.43301250535269,\n",
       "  'mean_pixel_value': 37.59570944021899},\n",
       " {'filename': 'test_photos_heic/table0.HEIC',\n",
       "  'ExposureTime': 0.016666666666666666,\n",
       "  'FNumber': 1.7799999713880652,\n",
       "  'ISOSpeedRatings': 250,\n",
       "  'BrightnessValue': 1.9762883948078653,\n",
       "  'ExposureBiasValue': 0.0,\n",
       "  'calculatedExposure': 1.3150696883656343,\n",
       "  'lux_unadjusted': 190.10399388849078,\n",
       "  'lux_adjusted': 137.8318797502401,\n",
       "  'mean_pixel_value': 110.59526469901687},\n",
       " {'filename': 'test_photos_heic/table+2.HEIC',\n",
       "  'ExposureTime': 0.016666666666666666,\n",
       "  'FNumber': 1.7799999713880652,\n",
       "  'ISOSpeedRatings': 800,\n",
       "  'BrightnessValue': 1.9325907590759075,\n",
       "  'ExposureBiasValue': 2.0,\n",
       "  'calculatedExposure': 4.20822300277003,\n",
       "  'lux_unadjusted': 59.40749809015337,\n",
       "  'lux_adjusted': 72.29976700183013,\n",
       "  'mean_pixel_value': 139.95251677740814}]"
      ]
     },
     "execution_count": 6,
     "metadata": {},
     "output_type": "execute_result"
    }
   ],
   "source": [
    "metadata_list"
   ]
  },
  {
   "cell_type": "code",
   "execution_count": 3,
   "metadata": {},
   "outputs": [
    {
     "name": "stdout",
     "output_type": "stream",
     "text": [
      "Loaded test_photos_heic/face-2.HEIC with dimensions: (3088, 2316, 3)\n",
      "Loaded test_photos_heic/face0.HEIC with dimensions: (3088, 2316, 3)\n",
      "Loaded test_photos_heic/face+2.HEIC with dimensions: (3088, 2316, 3)\n",
      "All images have the same dimensions. No resizing needed.\n",
      "Calibrating and merging with Debevec...\n",
      "Scaling HDR image to 8-bit range...\n",
      "HDR Image - Min Radiance: 0.003833844792097807, Max Radiance: 63.14649200439453\n",
      "Saved Debevec HDR to: hdr_debevec.jpg\n"
     ]
    }
   ],
   "source": [
    "create_hdr_from_images(image_paths)"
   ]
  },
  {
   "cell_type": "code",
   "execution_count": null,
   "metadata": {},
   "outputs": [],
   "source": []
  },
  {
   "cell_type": "markdown",
   "metadata": {},
   "source": []
  },
  {
   "cell_type": "code",
   "execution_count": null,
   "metadata": {},
   "outputs": [],
   "source": [
    "# List of exposure images and their exposure times\n",
    "image_paths = [\"test_photos_heic/table_-2.HEIC\", \"test_photos_heic/table_0.HEIC\", \"test_photos_heic/table_+2.HEIC\"]\n",
    "\n",
    "exposure_times = np.array([1/30.0, 1/60.0, 1/125.0], dtype=np.float32)  # Corresponding exposure times\n",
    "\n",
    "# Load images\n",
    "images = [cv2.imread(img) for img in image_paths]\n"
   ]
  }
 ],
 "metadata": {
  "kernelspec": {
   "display_name": ".venv",
   "language": "python",
   "name": "python3"
  },
  "language_info": {
   "codemirror_mode": {
    "name": "ipython",
    "version": 3
   },
   "file_extension": ".py",
   "mimetype": "text/x-python",
   "name": "python",
   "nbconvert_exporter": "python",
   "pygments_lexer": "ipython3",
   "version": "3.10.12"
  }
 },
 "nbformat": 4,
 "nbformat_minor": 2
}
