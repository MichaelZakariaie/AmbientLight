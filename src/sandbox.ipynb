{
 "cells": [
  {
   "cell_type": "code",
   "execution_count": 2,
   "metadata": {},
   "outputs": [],
   "source": [
    "import cv2\n",
    "import numpy as np\n",
    "import matplotlib.pyplot as plt\n",
    "import os\n",
    "from PIL import Image\n",
    "import pillow_heif\n",
    "from PIL.ExifTags import TAGS\n",
    "import piexif\n",
    "from pillow_heif import register_heif_opener\n",
    "\n",
    "\n",
    "\n",
    "os.chdir(\"/home/michael/AmbientLight/\")\n"
   ]
  },
  {
   "cell_type": "code",
   "execution_count": 55,
   "metadata": {},
   "outputs": [],
   "source": [
    "image_paths = [\"test_photos_heic/table_-2.HEIC\", \"test_photos_heic/table_0.HEIC\", \"test_photos_heic/table_+2.HEIC\"]\n",
    "image = Image.open('/home/michael/AmbientLight/test_photos_heic/table-2.HEIC')\n",
    "register_heif_opener()\n",
    "\n"
   ]
  },
  {
   "cell_type": "code",
   "execution_count": 3,
   "metadata": {},
   "outputs": [
    {
     "name": "stdout",
     "output_type": "stream",
     "text": [
      "Metadata for test_photos_heic/table-2.HEIC:\n",
      "  ExposureTime: 1/120\n",
      "  FNumber: 11/5 = 2.2\n",
      "  ISOSpeedRatings: 125\n",
      "  BrightnessValue: 16317/6947 = 2.35\n",
      "  ExposureBiasValue: -2/1 = -2.00\n",
      "\n",
      "\n",
      "Metadata for test_photos_heic/table0.HEIC:\n",
      "  ExposureTime: 1/60\n",
      "  FNumber: 1244236/699009 = 1.8\n",
      "  ISOSpeedRatings: 250\n",
      "  BrightnessValue: 30755/15562 = 1.98\n",
      "  ExposureBiasValue: 0/1 = 0.00\n",
      "\n",
      "\n",
      "Metadata for test_photos_heic/table+2.HEIC:\n",
      "  ExposureTime: 1/60\n",
      "  FNumber: 1244236/699009 = 1.8\n",
      "  ISOSpeedRatings: 800\n",
      "  BrightnessValue: 23423/12120 = 1.93\n",
      "  ExposureBiasValue: 2/1 = 2.00\n",
      "\n",
      "\n"
     ]
    }
   ],
   "source": [
    "def decode_exif(exif_bytes):\n",
    "    exif_data = {}\n",
    "    if not exif_bytes:\n",
    "        return exif_data  # No EXIF data found, return empty dictionary\n",
    "\n",
    "    try:\n",
    "        exif_dict = piexif.load(exif_bytes)\n",
    "\n",
    "        # Flatten the EXIF data from all IFDs\n",
    "        for ifd in exif_dict:\n",
    "            for tag, value in exif_dict[ifd].items():\n",
    "                decoded_tag = TAGS.get(tag, tag)\n",
    "                exif_data[decoded_tag] = value\n",
    "\n",
    "    except Exception:\n",
    "        pass  # Suppress errors silently\n",
    "    return exif_data\n",
    "\n",
    "def extract_specific_metadata(image_paths):\n",
    "    # Define the EXIF tags to extract\n",
    "    desired_tags = [\n",
    "        \"ExposureTime\",\n",
    "        \"FNumber\",\n",
    "        \"ISOSpeedRatings\",\n",
    "        \"BrightnessValue\",\n",
    "        \"ExposureBiasValue\"\n",
    "    ]\n",
    "\n",
    "    metadata_list = []\n",
    "\n",
    "    for image_path in image_paths:\n",
    "        metadata = {\"filename\": image_path}\n",
    "        try:\n",
    "            # Read HEIC file and metadata\n",
    "            heif_file = pillow_heif.read_heif(image_path)\n",
    "            exif_bytes = heif_file.info.get(\"exif\", b\"\")\n",
    "\n",
    "            # Decode EXIF bytes\n",
    "            decoded_exif = decode_exif(exif_bytes)\n",
    "\n",
    "            # Extract only the desired tags\n",
    "            for tag in desired_tags:\n",
    "                value = decoded_exif.get(tag, None)\n",
    "                metadata[tag] = value\n",
    "\n",
    "        except Exception:\n",
    "            # If there's an error, set all desired tags to None\n",
    "            for tag in desired_tags:\n",
    "                metadata[tag] = None\n",
    "\n",
    "        metadata_list.append(metadata)\n",
    "\n",
    "    return metadata_list\n",
    "\n",
    "def format_exif_value(tag, value):\n",
    "\n",
    "    if tag == \"ExposureTime\" and isinstance(value, tuple):\n",
    "        return f\"{value[0]}/{value[1]}\"\n",
    "    if tag == \"FNumber\" and isinstance(value, tuple):\n",
    "        return f\"{value[0]}/{value[1]} = {value[0]/value[1]:.1f}\"\n",
    "    if tag in [\"BrightnessValue\", \"ExposureBiasValue\"] and isinstance(value, tuple):\n",
    "        return f\"{value[0]}/{value[1]} = {value[0]/value[1]:.2f}\"\n",
    "    return str(value)\n",
    "\n",
    "\n",
    "image_paths = [\n",
    "    \"test_photos_heic/table-2.HEIC\",\n",
    "    \"test_photos_heic/table0.HEIC\",\n",
    "    \"test_photos_heic/table+2.HEIC\"\n",
    "]\n",
    "\n",
    "metadata_list = extract_specific_metadata(image_paths)\n",
    "\n",
    "for metadata in metadata_list:\n",
    "    print(f\"Metadata for {metadata['filename']}:\")\n",
    "    for key in [\"ExposureTime\", \"FNumber\", \"ISOSpeedRatings\", \"BrightnessValue\", \"ExposureBiasValue\"]:\n",
    "        formatted_value = format_exif_value(key, metadata.get(key))\n",
    "        print(f\"  {key}: {formatted_value}\")\n",
    "    print(\"\\n\")\n"
   ]
  },
  {
   "cell_type": "code",
   "execution_count": 4,
   "metadata": {},
   "outputs": [
    {
     "data": {
      "text/plain": [
       "[{'filename': 'test_photos_heic/table-2.HEIC',\n",
       "  'ExposureTime': (1, 120),\n",
       "  'FNumber': (11, 5),\n",
       "  'ISOSpeedRatings': 125,\n",
       "  'BrightnessValue': (16317, 6947),\n",
       "  'ExposureBiasValue': (-2, 1)},\n",
       " {'filename': 'test_photos_heic/table0.HEIC',\n",
       "  'ExposureTime': (1, 60),\n",
       "  'FNumber': (1244236, 699009),\n",
       "  'ISOSpeedRatings': 250,\n",
       "  'BrightnessValue': (30755, 15562),\n",
       "  'ExposureBiasValue': (0, 1)},\n",
       " {'filename': 'test_photos_heic/table+2.HEIC',\n",
       "  'ExposureTime': (1, 60),\n",
       "  'FNumber': (1244236, 699009),\n",
       "  'ISOSpeedRatings': 800,\n",
       "  'BrightnessValue': (23423, 12120),\n",
       "  'ExposureBiasValue': (2, 1)}]"
      ]
     },
     "execution_count": 4,
     "metadata": {},
     "output_type": "execute_result"
    }
   ],
   "source": [
    "metadata_list"
   ]
  },
  {
   "cell_type": "code",
   "execution_count": null,
   "metadata": {},
   "outputs": [],
   "source": [
    "  ExposureTime: (1, 120) # 1/120\n",
    "  FNumber: (11, 5) # 11/5 = 2.2\n",
    "  \n",
    "  \n",
    "  ISOSpeedRatings: 125 # straight up\n",
    "\n",
    "  BrightnessValue: (16317, 6947)\n",
    "  ExposureBiasValue: (-2, 1)\n",
    "  \n",
    "      \n",
    "\n",
    "\n"
   ]
  },
  {
   "cell_type": "code",
   "execution_count": null,
   "metadata": {},
   "outputs": [],
   "source": [
    "# List of exposure images and their exposure times\n",
    "image_paths = [\"test_photos_heic/table_-2.HEIC\", \"test_photos_heic/table_0.HEIC\", \"test_photos_heic/table_+2.HEIC\"]\n",
    "\n",
    "exposure_times = np.array([1/30.0, 1/60.0, 1/125.0], dtype=np.float32)  # Corresponding exposure times\n",
    "\n",
    "# Load images\n",
    "images = [cv2.imread(img) for img in image_paths]\n"
   ]
  }
 ],
 "metadata": {
  "kernelspec": {
   "display_name": ".venv",
   "language": "python",
   "name": "python3"
  },
  "language_info": {
   "codemirror_mode": {
    "name": "ipython",
    "version": 3
   },
   "file_extension": ".py",
   "mimetype": "text/x-python",
   "name": "python",
   "nbconvert_exporter": "python",
   "pygments_lexer": "ipython3",
   "version": "3.10.12"
  }
 },
 "nbformat": 4,
 "nbformat_minor": 2
}
